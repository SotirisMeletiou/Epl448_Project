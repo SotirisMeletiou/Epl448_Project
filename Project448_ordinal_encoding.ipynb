{
 "cells": [
  {
   "cell_type": "code",
   "execution_count": 1,
   "id": "0e2baf19-86d0-4af0-ae31-e10b2b721b5b",
   "metadata": {
    "tags": []
   },
   "outputs": [],
   "source": [
    "import pandas as pd\n",
    "import numpy as np\n",
    "import matplotlib.pyplot as plt\n",
    "from sklearn.preprocessing import OrdinalEncoder\n",
    "import seaborn as sns\n",
    "import time, datetime\n",
    "import re"
   ]
  },
  {
   "cell_type": "code",
   "execution_count": 2,
   "id": "23c72046-4cf6-4819-8e19-00393a45412f",
   "metadata": {
    "tags": []
   },
   "outputs": [],
   "source": [
    "data=pd.read_csv('./New_Clean.csv')"
   ]
  },
  {
   "cell_type": "code",
   "execution_count": 3,
   "id": "e37f7662-43e3-4b81-99e3-f9fdd0166b81",
   "metadata": {
    "tags": []
   },
   "outputs": [],
   "source": [
    "data.drop(['flight'], axis=1, inplace=True)"
   ]
  },
  {
   "cell_type": "code",
   "execution_count": 4,
   "id": "0600c194-2376-44c4-8c41-5ac8710ef88c",
   "metadata": {
    "tags": []
   },
   "outputs": [
    {
     "data": {
      "text/plain": [
       "<bound method NDFrame.head of        day_of_week   airline source_city  departure_hour departure_category  \\\n",
       "0           Friday  SpiceJet       Delhi              18            Evening   \n",
       "1           Friday  SpiceJet       Delhi               6      Early Morning   \n",
       "2           Friday   AirAsia       Delhi               4      Early Morning   \n",
       "3           Friday   Vistara       Delhi              10            Morning   \n",
       "4           Friday   Vistara       Delhi               8            Morning   \n",
       "...            ...       ...         ...             ...                ...   \n",
       "300256    Thursday   Vistara     Chennai               9            Morning   \n",
       "300257    Thursday   Vistara     Chennai              12          Afternoon   \n",
       "300258    Thursday   Vistara     Chennai               7      Early Morning   \n",
       "300259    Thursday   Vistara     Chennai               7      Early Morning   \n",
       "300260    Thursday   Vistara     Chennai               9            Morning   \n",
       "\n",
       "        stops  arrival_hour arrival_category destination_city     class  \\\n",
       "0           0            21            Night           Mumbai   economy   \n",
       "1           0             8          Morning           Mumbai   economy   \n",
       "2           0             6    Early Morning           Mumbai   economy   \n",
       "3           0            12        Afternoon           Mumbai   economy   \n",
       "4           0            11          Morning           Mumbai   economy   \n",
       "...       ...           ...              ...              ...       ...   \n",
       "300256      1            19          Evening        Hyderabad  business   \n",
       "300257      1            22            Night        Hyderabad  business   \n",
       "300258      1            20            Night        Hyderabad  business   \n",
       "300259      1            17          Evening        Hyderabad  business   \n",
       "300260      1            19          Evening        Hyderabad  business   \n",
       "\n",
       "        duration  days_left  price  \n",
       "0            130          1   5953  \n",
       "1            140          1   5953  \n",
       "2            130          1   5956  \n",
       "3            135          1   5955  \n",
       "4            140          1   5955  \n",
       "...          ...        ...    ...  \n",
       "300256       605         49  69265  \n",
       "300257       625         49  77105  \n",
       "300258       830         49  79099  \n",
       "300259       600         49  81585  \n",
       "300260       605         49  81585  \n",
       "\n",
       "[300261 rows x 13 columns]>"
      ]
     },
     "execution_count": 4,
     "metadata": {},
     "output_type": "execute_result"
    }
   ],
   "source": [
    "data.head"
   ]
  },
  {
   "cell_type": "code",
   "execution_count": 5,
   "id": "e5a2c7dd-80a3-4ff4-ae6c-a8a636f4a12e",
   "metadata": {
    "tags": []
   },
   "outputs": [],
   "source": [
    "def cyclical_encoding(hour):\n",
    "    # Encode hour using sine and cosine functions\n",
    "    hour_sin = np.sin(2 * np.pi * hour / 24)\n",
    "    hour_cos = np.cos(2 * np.pi * hour / 24)\n",
    "    return hour_sin, hour_cos\n",
    "\n",
    "# Apply cyclical encoding to 'departure_hour' and 'arrival_hour' columns\n",
    "data['departure_hour_sin'], data['departure_hour_cos'] = zip(*data['departure_hour'].apply(cyclical_encoding))\n",
    "data['arrival_hour_sin'], data['arrival_hour_cos'] = zip(*data['arrival_hour'].apply(cyclical_encoding))\n",
    "#code for drop duplicats rows(rows where all the features/columns are the same)\n",
    "data = data.drop_duplicates()"
   ]
  },
  {
   "cell_type": "code",
   "execution_count": 6,
   "id": "f6fb7fe4-60a6-4483-b78f-7be4f19472bd",
   "metadata": {
    "tags": []
   },
   "outputs": [
    {
     "data": {
      "text/plain": [
       "Index(['day_of_week', 'airline', 'source_city', 'departure_hour',\n",
       "       'departure_category', 'stops', 'arrival_hour', 'arrival_category',\n",
       "       'destination_city', 'class', 'duration', 'days_left', 'price',\n",
       "       'departure_hour_sin', 'departure_hour_cos', 'arrival_hour_sin',\n",
       "       'arrival_hour_cos'],\n",
       "      dtype='object')"
      ]
     },
     "execution_count": 6,
     "metadata": {},
     "output_type": "execute_result"
    }
   ],
   "source": [
    "data.columns"
   ]
  },
  {
   "cell_type": "code",
   "execution_count": 7,
   "id": "c37dd3d0-672d-4d82-9ef2-b645d9fe0520",
   "metadata": {
    "tags": []
   },
   "outputs": [
    {
     "name": "stdout",
     "output_type": "stream",
     "text": [
      "Encoding Mapping:\n",
      "{'Monday': 0, 'Tuesday': 1, 'Wednesday': 2, 'Thursday': 3, 'Friday': 4, 'Saturday': 5, 'Sunday': 6}\n"
     ]
    }
   ],
   "source": [
    "days_of_week_order = ['Monday', 'Tuesday', 'Wednesday', 'Thursday', 'Friday', 'Saturday', 'Sunday']\n",
    "\n",
    "# Create an OrdinalEncoder object with specified categories\n",
    "encoder = OrdinalEncoder(categories=[days_of_week_order])\n",
    "\n",
    "# Encode the 'day_of_week' column\n",
    "data['day_of_week'] = encoder.fit_transform(data[['day_of_week']]).astype(int)\n",
    "\n",
    "# Create a dictionary to store the mapping of original days to encoded integers\n",
    "days_mapping = dict(zip(days_of_week_order, range(len(days_of_week_order))))\n",
    "\n",
    "# Display the mapping\n",
    "print(\"Encoding Mapping:\")\n",
    "print(days_mapping)"
   ]
  },
  {
   "cell_type": "code",
   "execution_count": 8,
   "id": "63d6c268-e916-4dbe-b86d-bfd9e4a1df7a",
   "metadata": {
    "tags": []
   },
   "outputs": [
    {
     "name": "stdout",
     "output_type": "stream",
     "text": [
      "Encoding Mapping for Airline:\n",
      "{'Air India': 0, 'AirAsia': 1, 'GO FIRST': 2, 'Indigo': 3, 'SpiceJet': 4, 'StarAir': 5, 'Trujet': 6, 'Vistara': 7}\n"
     ]
    }
   ],
   "source": [
    "encoder = OrdinalEncoder()\n",
    "\n",
    "# Fit and transform the 'airline' column\n",
    "encoded_values = encoder.fit_transform(data[['airline']]).astype(int)\n",
    "\n",
    "# Store the encoded values back into the 'airline' column in the DataFrame\n",
    "data['airline'] = encoded_values\n",
    "\n",
    "# Get the unique airlines in the original data\n",
    "unique_airlines = encoder.categories_[0]\n",
    "\n",
    "# Create a dictionary to store the mapping of original airlines to encoded integers\n",
    "airline_mapping = dict(zip(unique_airlines, range(len(unique_airlines))))\n",
    "\n",
    "# Display the mapping\n",
    "print(\"Encoding Mapping for Airline:\")\n",
    "print(airline_mapping)"
   ]
  },
  {
   "cell_type": "code",
   "execution_count": 9,
   "id": "97198d8d-f2c1-41ca-be0e-645e8eebbed8",
   "metadata": {
    "tags": []
   },
   "outputs": [
    {
     "name": "stdout",
     "output_type": "stream",
     "text": [
      "['Delhi' 'Mumbai' 'Bangalore' 'Kolkata' 'Hyderabad' 'Chennai']\n"
     ]
    }
   ],
   "source": [
    "print(data['source_city'].unique())"
   ]
  },
  {
   "cell_type": "code",
   "execution_count": 10,
   "id": "ebe835ea-a040-4bc7-b4b2-358e62f6d8cf",
   "metadata": {
    "tags": []
   },
   "outputs": [
    {
     "name": "stdout",
     "output_type": "stream",
     "text": [
      "['Mumbai' 'Bangalore' 'Kolkata' 'Hyderabad' 'Chennai' 'Delhi']\n"
     ]
    }
   ],
   "source": [
    "print(data['destination_city'].unique())"
   ]
  },
  {
   "cell_type": "code",
   "execution_count": 11,
   "id": "c72d4a79-2586-4d9e-8ca0-530876c35e70",
   "metadata": {
    "tags": []
   },
   "outputs": [
    {
     "name": "stdout",
     "output_type": "stream",
     "text": [
      "\n",
      "Encoding Mapping for Cities:\n",
      "{'Bangalore': 0, 'Chennai': 1, 'Delhi': 2, 'Hyderabad': 3, 'Kolkata': 4, 'Mumbai': 5}\n"
     ]
    }
   ],
   "source": [
    "unique_cities = sorted(set(data['source_city'].unique()) | set(data['destination_city'].unique()))\n",
    "\n",
    "# Create an OrdinalEncoder object\n",
    "encoder = OrdinalEncoder(categories=[unique_cities, unique_cities])\n",
    "\n",
    "# Fit and transform both 'source_city' and 'destination_city' columns together\n",
    "encoded_values = encoder.fit_transform(data[['source_city', 'destination_city']]).astype(int)\n",
    "\n",
    "# Replace the original 'source_city' and 'destination_city' columns with the encoded values\n",
    "data['source_city'] = encoded_values[:, 0]\n",
    "data['destination_city'] = encoded_values[:, 1]\n",
    "\n",
    "# Get the unique cities in the original data\n",
    "unique_cities = sorted(unique_cities)\n",
    "\n",
    "# Create a dictionary to store the mapping of original cities to encoded integers\n",
    "encoding_mapping_cities = dict(zip(unique_cities, range(len(unique_cities))))\n",
    "\n",
    "# Display the mapping\n",
    "print(\"\\nEncoding Mapping for Cities:\")\n",
    "print(encoding_mapping_cities)"
   ]
  },
  {
   "cell_type": "code",
   "execution_count": 12,
   "id": "af49c4de-50e0-4810-b898-dad18a698c2e",
   "metadata": {
    "tags": []
   },
   "outputs": [
    {
     "name": "stdout",
     "output_type": "stream",
     "text": [
      "Encoding Mapping for Class:\n",
      "{'business': 0, 'economy': 1}\n"
     ]
    }
   ],
   "source": [
    "encoder = OrdinalEncoder()\n",
    "\n",
    "# Fit and transform the 'class' column\n",
    "encoded_values = encoder.fit_transform(data[['class']]).astype(int)\n",
    "\n",
    "# Store the encoded values back into the 'class' column in the DataFrame\n",
    "data['class'] = encoded_values\n",
    "\n",
    "# Get the unique classes in the original data\n",
    "unique_classes = encoder.categories_[0]\n",
    "\n",
    "# Create a dictionary to store the mapping of original classes to encoded integers\n",
    "class_mapping = dict(zip(unique_classes, range(len(unique_classes))))\n",
    "\n",
    "# Display the mapping\n",
    "print(\"Encoding Mapping for Class:\")\n",
    "print(class_mapping)"
   ]
  },
  {
   "cell_type": "code",
   "execution_count": 13,
   "id": "7e628d32-c185-481d-bc00-81123b71d718",
   "metadata": {},
   "outputs": [
    {
     "name": "stdout",
     "output_type": "stream",
     "text": [
      "\n",
      "Encoding Mapping for Categories:\n",
      "{'Early Morning': 0, 'Morning': 1, 'Evening': 2, 'Afternoon': 3, 'Night': 4, 'Late Night': 5}\n"
     ]
    }
   ],
   "source": [
    "# Define the order of categories\n",
    "categories_order = [ 'Early Morning', 'Morning', 'Evening','Afternoon', 'Night', 'Late Night']\n",
    "\n",
    "# Assuming 'data' is your DataFrame with the specified columns\n",
    "\n",
    "# Combine the unique values of both 'departure_category' and 'arrival_category' to get all unique categories\n",
    "unique_categories = sorted(set(data['departure_category'].unique()) | set(data['arrival_category'].unique()))\n",
    "\n",
    "# Create an OrdinalEncoder object with the specified categories\n",
    "encoder = OrdinalEncoder(categories=[categories_order, categories_order])\n",
    "\n",
    "# Fit and transform both 'departure_category' and 'arrival_category' columns together\n",
    "encoded_values = encoder.fit_transform(data[['departure_category', 'arrival_category']]).astype(int)\n",
    "\n",
    "# Replace the original 'departure_category' and 'arrival_category' columns with the encoded values\n",
    "data['departure_category'] = encoded_values[:, 0]\n",
    "data['arrival_category'] = encoded_values[:, 1]\n",
    "\n",
    "# Create a dictionary to store the mapping of original categories to encoded integers\n",
    "mapping_categories = dict(zip(categories_order, range(len(categories_order))))\n",
    "\n",
    "# Display the mapping\n",
    "print(\"\\nEncoding Mapping for Categories:\")\n",
    "print(mapping_categories)"
   ]
  },
  {
   "cell_type": "code",
   "execution_count": 14,
   "id": "f22f9b03-3e46-4755-a81f-29e13d8025af",
   "metadata": {
    "tags": []
   },
   "outputs": [
    {
     "data": {
      "text/html": [
       "<div>\n",
       "<style scoped>\n",
       "    .dataframe tbody tr th:only-of-type {\n",
       "        vertical-align: middle;\n",
       "    }\n",
       "\n",
       "    .dataframe tbody tr th {\n",
       "        vertical-align: top;\n",
       "    }\n",
       "\n",
       "    .dataframe thead th {\n",
       "        text-align: right;\n",
       "    }\n",
       "</style>\n",
       "<table border=\"1\" class=\"dataframe\">\n",
       "  <thead>\n",
       "    <tr style=\"text-align: right;\">\n",
       "      <th></th>\n",
       "      <th>day_of_week</th>\n",
       "      <th>airline</th>\n",
       "      <th>source_city</th>\n",
       "      <th>departure_hour</th>\n",
       "      <th>departure_category</th>\n",
       "      <th>stops</th>\n",
       "      <th>arrival_hour</th>\n",
       "      <th>arrival_category</th>\n",
       "      <th>destination_city</th>\n",
       "      <th>class</th>\n",
       "      <th>duration</th>\n",
       "      <th>days_left</th>\n",
       "      <th>price</th>\n",
       "      <th>departure_hour_sin</th>\n",
       "      <th>departure_hour_cos</th>\n",
       "      <th>arrival_hour_sin</th>\n",
       "      <th>arrival_hour_cos</th>\n",
       "    </tr>\n",
       "  </thead>\n",
       "  <tbody>\n",
       "    <tr>\n",
       "      <th>0</th>\n",
       "      <td>4</td>\n",
       "      <td>4</td>\n",
       "      <td>2</td>\n",
       "      <td>18</td>\n",
       "      <td>2</td>\n",
       "      <td>0</td>\n",
       "      <td>21</td>\n",
       "      <td>4</td>\n",
       "      <td>5</td>\n",
       "      <td>1</td>\n",
       "      <td>130</td>\n",
       "      <td>1</td>\n",
       "      <td>5953</td>\n",
       "      <td>-1.0</td>\n",
       "      <td>-1.836970e-16</td>\n",
       "      <td>-0.707107</td>\n",
       "      <td>0.707107</td>\n",
       "    </tr>\n",
       "  </tbody>\n",
       "</table>\n",
       "</div>"
      ],
      "text/plain": [
       "   day_of_week  airline  source_city  departure_hour  departure_category  \\\n",
       "0            4        4            2              18                   2   \n",
       "\n",
       "   stops  arrival_hour  arrival_category  destination_city  class  duration  \\\n",
       "0      0            21                 4                 5      1       130   \n",
       "\n",
       "   days_left  price  departure_hour_sin  departure_hour_cos  arrival_hour_sin  \\\n",
       "0          1   5953                -1.0       -1.836970e-16         -0.707107   \n",
       "\n",
       "   arrival_hour_cos  \n",
       "0          0.707107  "
      ]
     },
     "execution_count": 14,
     "metadata": {},
     "output_type": "execute_result"
    }
   ],
   "source": [
    "data.head(1)"
   ]
  },
  {
   "cell_type": "code",
   "execution_count": 15,
   "id": "2601675f-d7f2-4ba9-a829-8b21dc629f21",
   "metadata": {
    "tags": []
   },
   "outputs": [
    {
     "name": "stdout",
     "output_type": "stream",
     "text": [
      "Unique values in column 'day_of_week':\n",
      "[4 5 6 0 1 2 3]\n",
      "\n",
      "Unique values in column 'airline':\n",
      "[4 1 7 2 3 0 6 5]\n",
      "\n",
      "Unique values in column 'source_city':\n",
      "[2 5 0 4 3 1]\n",
      "\n",
      "Unique values in column 'departure_hour':\n",
      "[18  6  4 10  8 11  9 14 15  7 12 19  5 17 13 16 21 20 22 23  2  0  1  3]\n",
      "\n",
      "Unique values in column 'departure_category':\n",
      "[2 0 1 3 4 5]\n",
      "\n",
      "Unique values in column 'stops':\n",
      "[0 1 2]\n",
      "\n",
      "Unique values in column 'arrival_hour':\n",
      "[21  8  6 12 11 14 16 10 17  9  7 18 20 19 22 13 23 15  0  1  2  4  5  3]\n",
      "\n",
      "Unique values in column 'arrival_category':\n",
      "[4 1 0 3 2 5]\n",
      "\n",
      "Unique values in column 'destination_city':\n",
      "[5 0 4 3 1 2]\n",
      "\n",
      "Unique values in column 'class':\n",
      "[1 0]\n",
      "\n",
      "Unique values in column 'duration':\n",
      "[ 130  140  135  125  735  980  705  870  940  225  150  350  480  360\n",
      "  880  970 1080 1390 1450  530  270  915  660 1145 1370 1585 1065 1175\n",
      " 1600  910 1250  685 1335 1560 1305  230  265  460  500  625 1425 1170\n",
      "  390  745 1265 1690 1695  555 1075  425  830  455  950 1465  250  255\n",
      "  305 1760 1020 1630 1485  345  765  825 1070  330 1430  300 1590  770\n",
      "  535  670  730  935  945  475  795  960 1365  380  435 1805 1095  365\n",
      "  120  740  210  615  850 1535  245  585  400  580  605  755  420  495\n",
      "  930  610 1410 1545  690 1285  855  465  320  340  285 1160  375  620\n",
      "  545  925  290 1550  450 1655 1705  385 1475  990  680 1490  895 1565\n",
      "  325 1710 1640  520 1225 1205  355 1235 1570 1050 1100 1310 1610  805\n",
      " 1155 1415 1435  725  865 1555 1115  785  275 1295  630  700  515 1480\n",
      "  885 1030  440  550  695 1385 1515 1275  505  655  840  295 1505  760\n",
      " 1685 1280  860  890  920  955  570 1665 1495 1355  395  560  780  815\n",
      "  665  335  900  405  590  675  710  575  510  845  635 1330 1325  525\n",
      "  905 1530  985 1135  145  235 1470 1380  600 1140  995  470  190  975\n",
      " 1445  280  415  820 1500  485 1025  445 1350  775  370 1420  310  800\n",
      " 1035 1525 1750  540  565  490 1595 1340  750 1260 1455 1650 1090 1000\n",
      "  170  165  175  180  430 1540  160  650 1110 1270 1400 1440 1040 1645\n",
      " 1575  260  595 1180 1580 1015 1520 1635 1675 1620  720  640 1680 1300\n",
      " 1315  835  810  155 1345 1460 1085 1775 1780 1875 1990 2215 1215 1375\n",
      "  410  315 1240 1055 1150 1045  715 1890 1190 1625 1615 1290  364 1010\n",
      " 1230 1120  645 1105 1715 1195 1200 1320 1790 1165 1510  185 1125 1670\n",
      " 1210 1220 1245 1720 2150 2090 1395 1605 1185 1660  965 1815 1725 1835\n",
      " 1130  790 1830 1770 1730 1840 1060  875 1740 1700 2380 1005  115 2245\n",
      " 2185 1405 1360 2025 1850 1735  110  220  240   95  100  105 1255 2010\n",
      " 1820 2115 1910 2400 1900 1925 2170 1845 2030 2070 1865 1810 2165 2000\n",
      " 2220 2045 2225   85   80   90 2270 1755 2055 2210  205 1895 2015 2075\n",
      " 1930   70 2110 2260 2235 2385 1860 2265 1995 1870 1795 1915 2495 2230\n",
      " 1920 2130 2340 1885 2060 2315   63 2020  200  215 2050 2240 2125 1800\n",
      " 1985 2330 1960 1765 2105 1950 1785   62   65   60 1945   75 2095 2145\n",
      " 1905 1980 2085 2195 2510 2190 2005 2175 2440   55 2255   50 2445 2865\n",
      " 2160 2425 2035 1825 2430 1745 2310 2080  419 1855 2135  195 2390 2275\n",
      "   61 2250 2345 2325 2065 2455  804 1880 2520 1965 1940 1970 2155 1935\n",
      " 2320 2300 2355 2465 1975 2205 2140 2120 2990 2040 2825 2750 2365 2395\n",
      " 1955 2670 2490]\n",
      "\n",
      "Unique values in column 'days_left':\n",
      "[ 1  2  3  4  5  6  7  8  9 10 11 12 13 14 15 16 17 18 19 20 21 22 23 24\n",
      " 25 26 27 28 29 30 31 32 33 34 35 36 37 38 39 40 41 42 43 44 45 46 47 48\n",
      " 49]\n",
      "\n",
      "Unique values in column 'price':\n",
      "[ 5953  5956  5955 ... 87051 74731 77105]\n",
      "\n",
      "Unique values in column 'departure_hour_sin':\n",
      "[-1.00000000e+00  1.00000000e+00  8.66025404e-01  5.00000000e-01\n",
      "  8.66025404e-01  2.58819045e-01  7.07106781e-01 -5.00000000e-01\n",
      " -7.07106781e-01  9.65925826e-01  1.22464680e-16 -9.65925826e-01\n",
      " -9.65925826e-01 -2.58819045e-01 -8.66025404e-01 -7.07106781e-01\n",
      " -8.66025404e-01 -5.00000000e-01 -2.58819045e-01  0.00000000e+00\n",
      "  2.58819045e-01]\n",
      "\n",
      "Unique values in column 'departure_hour_cos':\n",
      "[-1.83697020e-16  6.12323400e-17  5.00000000e-01 -8.66025404e-01\n",
      " -5.00000000e-01 -9.65925826e-01 -7.07106781e-01 -8.66025404e-01\n",
      " -7.07106781e-01 -2.58819045e-01 -1.00000000e+00  2.58819045e-01\n",
      "  2.58819045e-01 -9.65925826e-01 -5.00000000e-01  7.07106781e-01\n",
      "  8.66025404e-01  9.65925826e-01  8.66025404e-01  1.00000000e+00\n",
      "  9.65925826e-01  7.07106781e-01]\n",
      "\n",
      "Unique values in column 'arrival_hour_sin':\n",
      "[-7.07106781e-01  8.66025404e-01  1.00000000e+00  1.22464680e-16\n",
      "  2.58819045e-01 -5.00000000e-01 -8.66025404e-01  5.00000000e-01\n",
      " -9.65925826e-01  7.07106781e-01  9.65925826e-01 -1.00000000e+00\n",
      " -8.66025404e-01 -9.65925826e-01 -5.00000000e-01 -2.58819045e-01\n",
      " -2.58819045e-01 -7.07106781e-01  0.00000000e+00  2.58819045e-01\n",
      "  8.66025404e-01]\n",
      "\n",
      "Unique values in column 'arrival_hour_cos':\n",
      "[ 7.07106781e-01 -5.00000000e-01  6.12323400e-17 -1.00000000e+00\n",
      " -9.65925826e-01 -8.66025404e-01 -5.00000000e-01 -8.66025404e-01\n",
      " -2.58819045e-01 -7.07106781e-01 -1.83697020e-16  5.00000000e-01\n",
      "  2.58819045e-01  8.66025404e-01 -9.65925826e-01  9.65925826e-01\n",
      " -7.07106781e-01  1.00000000e+00  9.65925826e-01  8.66025404e-01\n",
      "  2.58819045e-01  7.07106781e-01]\n",
      "\n"
     ]
    }
   ],
   "source": [
    "for column in data.columns:\n",
    "    unique_values = data[column].unique()\n",
    "    print(f\"Unique values in column '{column}':\")\n",
    "    print(unique_values)\n",
    "    print()"
   ]
  },
  {
   "cell_type": "code",
   "execution_count": 16,
   "id": "2d64d369-aee3-49a4-aa98-f0363caffd57",
   "metadata": {
    "tags": []
   },
   "outputs": [
    {
     "name": "stdout",
     "output_type": "stream",
     "text": [
      "Encoding Mapping:\n",
      "{'Monday': 0, 'Tuesday': 1, 'Wednesday': 2, 'Thursday': 3, 'Friday': 4, 'Saturday': 5, 'Sunday': 6}\n"
     ]
    }
   ],
   "source": [
    "print(\"Encoding Mapping:\")\n",
    "print(days_mapping)"
   ]
  },
  {
   "cell_type": "code",
   "execution_count": 17,
   "id": "7f1dd249-6ddb-4359-b5ce-a249f7e3e66b",
   "metadata": {
    "tags": []
   },
   "outputs": [
    {
     "name": "stdout",
     "output_type": "stream",
     "text": [
      "Encoding Mapping for Airline:\n",
      "{'Air India': 0, 'AirAsia': 1, 'GO FIRST': 2, 'Indigo': 3, 'SpiceJet': 4, 'StarAir': 5, 'Trujet': 6, 'Vistara': 7}\n"
     ]
    }
   ],
   "source": [
    "print(\"Encoding Mapping for Airline:\")\n",
    "print(airline_mapping)"
   ]
  },
  {
   "cell_type": "code",
   "execution_count": 18,
   "id": "55bb3eaf-fa25-46ec-aaa8-5e928a1bff74",
   "metadata": {
    "tags": []
   },
   "outputs": [
    {
     "name": "stdout",
     "output_type": "stream",
     "text": [
      "\n",
      "Encoding Mapping for Cities:\n",
      "{'Bangalore': 0, 'Chennai': 1, 'Delhi': 2, 'Hyderabad': 3, 'Kolkata': 4, 'Mumbai': 5}\n"
     ]
    }
   ],
   "source": [
    "print(\"\\nEncoding Mapping for Cities:\")\n",
    "print(encoding_mapping_cities)"
   ]
  },
  {
   "cell_type": "code",
   "execution_count": 19,
   "id": "a0ce3dd1-09bc-474b-913f-ad26e411d1a0",
   "metadata": {
    "tags": []
   },
   "outputs": [
    {
     "name": "stdout",
     "output_type": "stream",
     "text": [
      "Encoding Mapping for Class:\n",
      "{'business': 0, 'economy': 1}\n"
     ]
    }
   ],
   "source": [
    "print(\"Encoding Mapping for Class:\")\n",
    "print(class_mapping)"
   ]
  },
  {
   "cell_type": "code",
   "execution_count": 21,
   "id": "51508ab2-449f-462c-bd09-67120bdc79c6",
   "metadata": {
    "tags": []
   },
   "outputs": [
    {
     "name": "stdout",
     "output_type": "stream",
     "text": [
      "\n",
      "Encoding Mapping for Categories:\n",
      "{'Early Morning': 0, 'Morning': 1, 'Evening': 2, 'Afternoon': 3, 'Night': 4, 'Late Night': 5}\n"
     ]
    }
   ],
   "source": [
    "print(\"\\nEncoding Mapping for Categories:\")\n",
    "print(mapping_categories)"
   ]
  },
  {
   "cell_type": "code",
   "execution_count": null,
   "id": "b0697f66-3496-4138-8fc3-97e97c7420a3",
   "metadata": {},
   "outputs": [],
   "source": []
  }
 ],
 "metadata": {
  "kernelspec": {
   "display_name": "Python 3 (ipykernel)",
   "language": "python",
   "name": "python3"
  },
  "language_info": {
   "codemirror_mode": {
    "name": "ipython",
    "version": 3
   },
   "file_extension": ".py",
   "mimetype": "text/x-python",
   "name": "python",
   "nbconvert_exporter": "python",
   "pygments_lexer": "ipython3",
   "version": "3.11.5"
  }
 },
 "nbformat": 4,
 "nbformat_minor": 5
}
