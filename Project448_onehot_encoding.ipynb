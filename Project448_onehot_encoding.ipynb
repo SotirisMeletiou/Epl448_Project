{
 "cells": [
  {
   "cell_type": "code",
   "execution_count": 1,
   "id": "72c24018-edb7-42e4-9d72-01b85714fc64",
   "metadata": {
    "tags": []
   },
   "outputs": [],
   "source": [
    "import pandas as pd\n",
    "import numpy as np\n",
    "import matplotlib.pyplot as plt\n",
    "from sklearn.preprocessing import OneHotEncoder\n",
    "import seaborn as sns\n",
    "import time, datetime\n",
    "import re"
   ]
  },
  {
   "cell_type": "code",
   "execution_count": 2,
   "id": "73c1f073-bba5-45c8-b56d-89974f9593f0",
   "metadata": {
    "tags": []
   },
   "outputs": [],
   "source": [
    "data=pd.read_csv('./New_Clean.csv')"
   ]
  },
  {
   "cell_type": "code",
   "execution_count": 3,
   "id": "c5f5edf9-c593-459e-a400-365d55efc32b",
   "metadata": {
    "tags": []
   },
   "outputs": [],
   "source": [
    "def cyclical_encoding(hour):\n",
    "    # Encode hour using sine and cosine functions\n",
    "    hour_sin = np.sin(2 * np.pi * hour / 24)\n",
    "    hour_cos = np.cos(2 * np.pi * hour / 24)\n",
    "    return hour_sin, hour_cos\n",
    "\n",
    "# Apply cyclical encoding to 'departure_hour' and 'arrival_hour' columns\n",
    "data['departure_hour_sin'], data['departure_hour_cos'] = zip(*data['departure_hour'].apply(cyclical_encoding))\n",
    "data['arrival_hour_sin'], data['arrival_hour_cos'] = zip(*data['arrival_hour'].apply(cyclical_encoding))\n"
   ]
  },
  {
   "cell_type": "code",
   "execution_count": 4,
   "id": "84bea190-abbd-4fbe-997d-31182ae8b386",
   "metadata": {
    "tags": []
   },
   "outputs": [
    {
     "data": {
      "text/html": [
       "<div>\n",
       "<style scoped>\n",
       "    .dataframe tbody tr th:only-of-type {\n",
       "        vertical-align: middle;\n",
       "    }\n",
       "\n",
       "    .dataframe tbody tr th {\n",
       "        vertical-align: top;\n",
       "    }\n",
       "\n",
       "    .dataframe thead th {\n",
       "        text-align: right;\n",
       "    }\n",
       "</style>\n",
       "<table border=\"1\" class=\"dataframe\">\n",
       "  <thead>\n",
       "    <tr style=\"text-align: right;\">\n",
       "      <th></th>\n",
       "      <th>day_of_week</th>\n",
       "      <th>airline</th>\n",
       "      <th>flight</th>\n",
       "      <th>source_city</th>\n",
       "      <th>departure_hour</th>\n",
       "      <th>departure_category</th>\n",
       "      <th>stops</th>\n",
       "      <th>arrival_hour</th>\n",
       "      <th>arrival_category</th>\n",
       "      <th>destination_city</th>\n",
       "      <th>class</th>\n",
       "      <th>duration</th>\n",
       "      <th>days_left</th>\n",
       "      <th>price</th>\n",
       "      <th>departure_hour_sin</th>\n",
       "      <th>departure_hour_cos</th>\n",
       "      <th>arrival_hour_sin</th>\n",
       "      <th>arrival_hour_cos</th>\n",
       "    </tr>\n",
       "  </thead>\n",
       "  <tbody>\n",
       "    <tr>\n",
       "      <th>0</th>\n",
       "      <td>Friday</td>\n",
       "      <td>SpiceJet</td>\n",
       "      <td>SG-8709</td>\n",
       "      <td>Delhi</td>\n",
       "      <td>18</td>\n",
       "      <td>Evening</td>\n",
       "      <td>0</td>\n",
       "      <td>21</td>\n",
       "      <td>Night</td>\n",
       "      <td>Mumbai</td>\n",
       "      <td>economy</td>\n",
       "      <td>130</td>\n",
       "      <td>1</td>\n",
       "      <td>5953</td>\n",
       "      <td>-1.0</td>\n",
       "      <td>-1.836970e-16</td>\n",
       "      <td>-0.707107</td>\n",
       "      <td>0.707107</td>\n",
       "    </tr>\n",
       "  </tbody>\n",
       "</table>\n",
       "</div>"
      ],
      "text/plain": [
       "  day_of_week   airline   flight source_city  departure_hour  \\\n",
       "0      Friday  SpiceJet  SG-8709       Delhi              18   \n",
       "\n",
       "  departure_category  stops  arrival_hour arrival_category destination_city  \\\n",
       "0            Evening      0            21            Night           Mumbai   \n",
       "\n",
       "     class  duration  days_left  price  departure_hour_sin  \\\n",
       "0  economy       130          1   5953                -1.0   \n",
       "\n",
       "   departure_hour_cos  arrival_hour_sin  arrival_hour_cos  \n",
       "0       -1.836970e-16         -0.707107          0.707107  "
      ]
     },
     "execution_count": 4,
     "metadata": {},
     "output_type": "execute_result"
    }
   ],
   "source": [
    "data.head(1)"
   ]
  },
  {
   "cell_type": "code",
   "execution_count": 5,
   "id": "e9ea18aa-6fb0-423d-8442-f50fe8a74ca7",
   "metadata": {
    "tags": []
   },
   "outputs": [
    {
     "data": {
      "text/plain": [
       "array(['SpiceJet', 'AirAsia', 'Vistara', 'GO FIRST', 'Indigo',\n",
       "       'Air India', 'Trujet', 'StarAir'], dtype=object)"
      ]
     },
     "execution_count": 5,
     "metadata": {},
     "output_type": "execute_result"
    }
   ],
   "source": [
    "data['airline'].unique()"
   ]
  },
  {
   "cell_type": "code",
   "execution_count": 6,
   "id": "4d2a1c15-12aa-4b4f-9593-896b8aac403d",
   "metadata": {},
   "outputs": [],
   "source": [
    "encoder = OneHotEncoder(sparse_output=False)"
   ]
  },
  {
   "cell_type": "code",
   "execution_count": 7,
   "id": "feaec57f-1c74-469b-ab9e-00a4ff45b6f2",
   "metadata": {
    "tags": []
   },
   "outputs": [],
   "source": [
    "# Fit and transform the 'airline' column\n",
    "airline_encoded = encoder.fit_transform(data[['airline']]).astype(int)\n",
    "# Get the feature names from the encoder\n",
    "airline_names = encoder.get_feature_names_out(['airline'])\n",
    "# Convert the encoded array into a DataFrame\n",
    "airline_encoded_df = pd.DataFrame(airline_encoded, columns=airline_names)\n",
    "\n",
    "# Concatenate the original DataFrame with the encoded column\n",
    "data = pd.concat([data, airline_encoded_df], axis=1)"
   ]
  },
  {
   "cell_type": "code",
   "execution_count": 8,
   "id": "0cf0176c-0b4c-4a08-b97f-3fdba48fdd39",
   "metadata": {},
   "outputs": [],
   "source": [
    "data.drop(['flight', 'airline'], axis=1, inplace=True)"
   ]
  },
  {
   "cell_type": "code",
   "execution_count": 9,
   "id": "dbcf450a-8621-4797-9557-f143a7d1e496",
   "metadata": {
    "tags": []
   },
   "outputs": [
    {
     "data": {
      "text/plain": [
       "Index(['day_of_week', 'source_city', 'departure_hour', 'departure_category',\n",
       "       'stops', 'arrival_hour', 'arrival_category', 'destination_city',\n",
       "       'class', 'duration', 'days_left', 'price', 'departure_hour_sin',\n",
       "       'departure_hour_cos', 'arrival_hour_sin', 'arrival_hour_cos',\n",
       "       'airline_Air India', 'airline_AirAsia', 'airline_GO FIRST',\n",
       "       'airline_Indigo', 'airline_SpiceJet', 'airline_StarAir',\n",
       "       'airline_Trujet', 'airline_Vistara'],\n",
       "      dtype='object')"
      ]
     },
     "execution_count": 9,
     "metadata": {},
     "output_type": "execute_result"
    }
   ],
   "source": [
    "data.columns"
   ]
  },
  {
   "cell_type": "code",
   "execution_count": 10,
   "id": "83c2884a-7f23-43ea-888e-3b2915555f0a",
   "metadata": {
    "tags": []
   },
   "outputs": [],
   "source": [
    "encoder = OneHotEncoder(sparse_output=False)\n",
    "\n",
    "# Fit and transform the 'source_city' column\n",
    "source_encoded = encoder.fit_transform(data[['source_city']]).astype(int)\n",
    "# Get the feature names from the encoder\n",
    "source_city_names = encoder.get_feature_names_out(['source_city'])\n",
    "# Convert the encoded array into a DataFrame\n",
    "source_encoded_df = pd.DataFrame(source_encoded, columns=source_city_names)\n",
    "\n",
    "# Fit and transform the 'destination_city' column\n",
    "destination_encoded = encoder.fit_transform(data[['destination_city']]).astype(int)\n",
    "# Get the feature names from the encoder\n",
    "destination_city_names = encoder.get_feature_names_out(['destination_city'])\n",
    "# Convert the encoded array into a DataFrame\n",
    "destination_encoded_df = pd.DataFrame(destination_encoded, columns=destination_city_names)\n",
    "\n",
    "# Concatenate the original DataFrame with the encoded columns\n",
    "data = pd.concat([data, source_encoded_df, destination_encoded_df], axis=1)\n"
   ]
  },
  {
   "cell_type": "code",
   "execution_count": 11,
   "id": "417c72a9-6386-4810-a20a-880345d02f49",
   "metadata": {
    "tags": []
   },
   "outputs": [],
   "source": [
    "data.drop(['source_city', 'destination_city'], axis=1, inplace=True)"
   ]
  },
  {
   "cell_type": "code",
   "execution_count": 12,
   "id": "6c58e8f7-bd95-4c68-bc38-8bc422d8bae7",
   "metadata": {
    "tags": []
   },
   "outputs": [
    {
     "data": {
      "text/plain": [
       "Index(['day_of_week', 'departure_hour', 'departure_category', 'stops',\n",
       "       'arrival_hour', 'arrival_category', 'class', 'duration', 'days_left',\n",
       "       'price', 'departure_hour_sin', 'departure_hour_cos', 'arrival_hour_sin',\n",
       "       'arrival_hour_cos', 'airline_Air India', 'airline_AirAsia',\n",
       "       'airline_GO FIRST', 'airline_Indigo', 'airline_SpiceJet',\n",
       "       'airline_StarAir', 'airline_Trujet', 'airline_Vistara',\n",
       "       'source_city_Bangalore', 'source_city_Chennai', 'source_city_Delhi',\n",
       "       'source_city_Hyderabad', 'source_city_Kolkata', 'source_city_Mumbai',\n",
       "       'destination_city_Bangalore', 'destination_city_Chennai',\n",
       "       'destination_city_Delhi', 'destination_city_Hyderabad',\n",
       "       'destination_city_Kolkata', 'destination_city_Mumbai'],\n",
       "      dtype='object')"
      ]
     },
     "execution_count": 12,
     "metadata": {},
     "output_type": "execute_result"
    }
   ],
   "source": [
    "data.columns"
   ]
  },
  {
   "cell_type": "code",
   "execution_count": 13,
   "id": "2b1df73f-ddfd-4929-84dc-e4fa6d5aac1f",
   "metadata": {
    "tags": []
   },
   "outputs": [],
   "source": [
    "# Fit and transform the 'day_of_week' column\n",
    "day_of_week_encoded = encoder.fit_transform(data[['day_of_week']]).astype(int)\n",
    "# Get the feature names from the encoder\n",
    "day_of_week_names = encoder.get_feature_names_out(['day_of_week'])\n",
    "# Convert the encoded array into a DataFrame\n",
    "day_of_week_encoded_df = pd.DataFrame(day_of_week_encoded, columns=day_of_week_names)\n",
    "\n",
    "# Concatenate the original DataFrame with the encoded column\n",
    "data = pd.concat([data, day_of_week_encoded_df], axis=1)\n"
   ]
  },
  {
   "cell_type": "code",
   "execution_count": 14,
   "id": "141e48f2-e4e5-4d69-a586-ca2206c2b7c4",
   "metadata": {
    "tags": []
   },
   "outputs": [],
   "source": [
    "data.drop(['day_of_week'], axis=1, inplace=True)"
   ]
  },
  {
   "cell_type": "code",
   "execution_count": 15,
   "id": "f413456c-e1d0-4302-b2e2-95ea21ce0466",
   "metadata": {
    "tags": []
   },
   "outputs": [
    {
     "data": {
      "text/plain": [
       "Index(['departure_hour', 'departure_category', 'stops', 'arrival_hour',\n",
       "       'arrival_category', 'class', 'duration', 'days_left', 'price',\n",
       "       'departure_hour_sin', 'departure_hour_cos', 'arrival_hour_sin',\n",
       "       'arrival_hour_cos', 'airline_Air India', 'airline_AirAsia',\n",
       "       'airline_GO FIRST', 'airline_Indigo', 'airline_SpiceJet',\n",
       "       'airline_StarAir', 'airline_Trujet', 'airline_Vistara',\n",
       "       'source_city_Bangalore', 'source_city_Chennai', 'source_city_Delhi',\n",
       "       'source_city_Hyderabad', 'source_city_Kolkata', 'source_city_Mumbai',\n",
       "       'destination_city_Bangalore', 'destination_city_Chennai',\n",
       "       'destination_city_Delhi', 'destination_city_Hyderabad',\n",
       "       'destination_city_Kolkata', 'destination_city_Mumbai',\n",
       "       'day_of_week_Friday', 'day_of_week_Monday', 'day_of_week_Saturday',\n",
       "       'day_of_week_Sunday', 'day_of_week_Thursday', 'day_of_week_Tuesday',\n",
       "       'day_of_week_Wednesday'],\n",
       "      dtype='object')"
      ]
     },
     "execution_count": 15,
     "metadata": {},
     "output_type": "execute_result"
    }
   ],
   "source": [
    "data.columns"
   ]
  },
  {
   "cell_type": "code",
   "execution_count": 16,
   "id": "1f314db7-74ef-4bf3-b996-29e0e33cd368",
   "metadata": {
    "tags": []
   },
   "outputs": [],
   "source": [
    "# Fit and transform the 'class' column\n",
    "class_encoded = encoder.fit_transform(data[['class']]).astype(int)\n",
    "# Get the feature names from the encoder\n",
    "class_names = encoder.get_feature_names_out(['class'])\n",
    "# Convert the encoded array into a DataFrame\n",
    "class_encoded_df = pd.DataFrame(class_encoded, columns=class_names)\n",
    "\n",
    "# Concatenate the original DataFrame with the encoded column\n",
    "data = pd.concat([data, class_encoded_df], axis=1)"
   ]
  },
  {
   "cell_type": "code",
   "execution_count": 17,
   "id": "1497b491-733e-40b2-a084-73b2d4fd9bde",
   "metadata": {
    "tags": []
   },
   "outputs": [],
   "source": [
    "data.drop(['class'], axis=1, inplace=True)"
   ]
  },
  {
   "cell_type": "code",
   "execution_count": 18,
   "id": "a09bbbd4-5455-4f8d-a75e-eee463a9da59",
   "metadata": {
    "tags": []
   },
   "outputs": [
    {
     "data": {
      "text/plain": [
       "Index(['departure_hour', 'departure_category', 'stops', 'arrival_hour',\n",
       "       'arrival_category', 'duration', 'days_left', 'price',\n",
       "       'departure_hour_sin', 'departure_hour_cos', 'arrival_hour_sin',\n",
       "       'arrival_hour_cos', 'airline_Air India', 'airline_AirAsia',\n",
       "       'airline_GO FIRST', 'airline_Indigo', 'airline_SpiceJet',\n",
       "       'airline_StarAir', 'airline_Trujet', 'airline_Vistara',\n",
       "       'source_city_Bangalore', 'source_city_Chennai', 'source_city_Delhi',\n",
       "       'source_city_Hyderabad', 'source_city_Kolkata', 'source_city_Mumbai',\n",
       "       'destination_city_Bangalore', 'destination_city_Chennai',\n",
       "       'destination_city_Delhi', 'destination_city_Hyderabad',\n",
       "       'destination_city_Kolkata', 'destination_city_Mumbai',\n",
       "       'day_of_week_Friday', 'day_of_week_Monday', 'day_of_week_Saturday',\n",
       "       'day_of_week_Sunday', 'day_of_week_Thursday', 'day_of_week_Tuesday',\n",
       "       'day_of_week_Wednesday', 'class_business', 'class_economy'],\n",
       "      dtype='object')"
      ]
     },
     "execution_count": 18,
     "metadata": {},
     "output_type": "execute_result"
    }
   ],
   "source": [
    "data.columns"
   ]
  },
  {
   "cell_type": "code",
   "execution_count": 19,
   "id": "06a9722c-32f8-47d9-8e05-9c2d81777bfc",
   "metadata": {
    "tags": []
   },
   "outputs": [
    {
     "data": {
      "text/plain": [
       "(300261, 41)"
      ]
     },
     "execution_count": 19,
     "metadata": {},
     "output_type": "execute_result"
    }
   ],
   "source": [
    "data.shape"
   ]
  },
  {
   "cell_type": "code",
   "execution_count": null,
   "id": "24741752-a642-44df-9050-d69a2890fca5",
   "metadata": {},
   "outputs": [],
   "source": []
  }
 ],
 "metadata": {
  "kernelspec": {
   "display_name": "Python 3 (ipykernel)",
   "language": "python",
   "name": "python3"
  },
  "language_info": {
   "codemirror_mode": {
    "name": "ipython",
    "version": 3
   },
   "file_extension": ".py",
   "mimetype": "text/x-python",
   "name": "python",
   "nbconvert_exporter": "python",
   "pygments_lexer": "ipython3",
   "version": "3.11.5"
  }
 },
 "nbformat": 4,
 "nbformat_minor": 5
}
