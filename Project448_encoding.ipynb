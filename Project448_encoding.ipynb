{
 "cells": [
  {
   "cell_type": "code",
   "execution_count": 1,
   "id": "72c24018-edb7-42e4-9d72-01b85714fc64",
   "metadata": {
    "tags": []
   },
   "outputs": [],
   "source": [
    "import pandas as pd\n",
    "import numpy as np\n",
    "import matplotlib.pyplot as plt\n",
    "import seaborn as sns\n",
    "import time, datetime\n",
    "import re"
   ]
  },
  {
   "cell_type": "code",
   "execution_count": 2,
   "id": "73c1f073-bba5-45c8-b56d-89974f9593f0",
   "metadata": {
    "tags": []
   },
   "outputs": [],
   "source": [
    "data=pd.read_csv('./New_Clean.csv')"
   ]
  },
  {
   "cell_type": "code",
   "execution_count": 3,
   "id": "c5f5edf9-c593-459e-a400-365d55efc32b",
   "metadata": {
    "tags": []
   },
   "outputs": [],
   "source": [
    "def cyclical_encoding(hour):\n",
    "    # Encode hour using sine and cosine functions\n",
    "    hour_sin = np.sin(2 * np.pi * hour / 24)\n",
    "    hour_cos = np.cos(2 * np.pi * hour / 24)\n",
    "    return hour_sin, hour_cos\n",
    "\n",
    "# Apply cyclical encoding to 'departure_hour' and 'arrival_hour' columns\n",
    "data['departure_hour_sin'], data['departure_hour_cos'] = zip(*data['departure_hour'].apply(cyclical_encoding))\n",
    "data['arrival_hour_sin'], data['arrival_hour_cos'] = zip(*data['arrival_hour'].apply(cyclical_encoding))\n"
   ]
  },
  {
   "cell_type": "code",
   "execution_count": 4,
   "id": "84bea190-abbd-4fbe-997d-31182ae8b386",
   "metadata": {
    "tags": []
   },
   "outputs": [
    {
     "data": {
      "text/html": [
       "<div>\n",
       "<style scoped>\n",
       "    .dataframe tbody tr th:only-of-type {\n",
       "        vertical-align: middle;\n",
       "    }\n",
       "\n",
       "    .dataframe tbody tr th {\n",
       "        vertical-align: top;\n",
       "    }\n",
       "\n",
       "    .dataframe thead th {\n",
       "        text-align: right;\n",
       "    }\n",
       "</style>\n",
       "<table border=\"1\" class=\"dataframe\">\n",
       "  <thead>\n",
       "    <tr style=\"text-align: right;\">\n",
       "      <th></th>\n",
       "      <th>day_of_week</th>\n",
       "      <th>airline</th>\n",
       "      <th>flight</th>\n",
       "      <th>source_city</th>\n",
       "      <th>departure_hour</th>\n",
       "      <th>departure_category</th>\n",
       "      <th>stops</th>\n",
       "      <th>arrival_hour</th>\n",
       "      <th>arrival_category</th>\n",
       "      <th>destination_city</th>\n",
       "      <th>class</th>\n",
       "      <th>duration</th>\n",
       "      <th>days_left</th>\n",
       "      <th>price</th>\n",
       "      <th>departure_hour_sin</th>\n",
       "      <th>departure_hour_cos</th>\n",
       "      <th>arrival_hour_sin</th>\n",
       "      <th>arrival_hour_cos</th>\n",
       "    </tr>\n",
       "  </thead>\n",
       "  <tbody>\n",
       "    <tr>\n",
       "      <th>0</th>\n",
       "      <td>Friday</td>\n",
       "      <td>SpiceJet</td>\n",
       "      <td>SG-8709</td>\n",
       "      <td>Delhi</td>\n",
       "      <td>18</td>\n",
       "      <td>Evening</td>\n",
       "      <td>0</td>\n",
       "      <td>21</td>\n",
       "      <td>Night</td>\n",
       "      <td>Mumbai</td>\n",
       "      <td>economy</td>\n",
       "      <td>130</td>\n",
       "      <td>1</td>\n",
       "      <td>5953</td>\n",
       "      <td>-1.0</td>\n",
       "      <td>-1.836970e-16</td>\n",
       "      <td>-0.707107</td>\n",
       "      <td>0.707107</td>\n",
       "    </tr>\n",
       "  </tbody>\n",
       "</table>\n",
       "</div>"
      ],
      "text/plain": [
       "  day_of_week   airline   flight source_city  departure_hour  \\\n",
       "0      Friday  SpiceJet  SG-8709       Delhi              18   \n",
       "\n",
       "  departure_category  stops  arrival_hour arrival_category destination_city  \\\n",
       "0            Evening      0            21            Night           Mumbai   \n",
       "\n",
       "     class  duration  days_left  price  departure_hour_sin  \\\n",
       "0  economy       130          1   5953                -1.0   \n",
       "\n",
       "   departure_hour_cos  arrival_hour_sin  arrival_hour_cos  \n",
       "0       -1.836970e-16         -0.707107          0.707107  "
      ]
     },
     "execution_count": 4,
     "metadata": {},
     "output_type": "execute_result"
    }
   ],
   "source": [
    "data.head(1)"
   ]
  },
  {
   "cell_type": "code",
   "execution_count": 5,
   "id": "e9ea18aa-6fb0-423d-8442-f50fe8a74ca7",
   "metadata": {
    "tags": []
   },
   "outputs": [
    {
     "data": {
      "text/plain": [
       "array(['SpiceJet', 'AirAsia', 'Vistara', 'GO FIRST', 'Indigo',\n",
       "       'Air India', 'Trujet', 'StarAir'], dtype=object)"
      ]
     },
     "execution_count": 5,
     "metadata": {},
     "output_type": "execute_result"
    }
   ],
   "source": [
    "data['airline'].unique()"
   ]
  },
  {
   "cell_type": "code",
   "execution_count": 6,
   "id": "feaec57f-1c74-469b-ab9e-00a4ff45b6f2",
   "metadata": {
    "tags": []
   },
   "outputs": [],
   "source": [
    "encoded_airline = pd.get_dummies(data['airline'], dtype=int)\n",
    "\n",
    "# Concatenate the encoded airline columns with the original DataFrame\n",
    "data = pd.concat([data, encoded_airline], axis=1)"
   ]
  },
  {
   "cell_type": "code",
   "execution_count": 7,
   "id": "a5a8dceb-0e1d-4c35-924e-a86aed92dd41",
   "metadata": {
    "tags": []
   },
   "outputs": [
    {
     "data": {
      "text/html": [
       "<div>\n",
       "<style scoped>\n",
       "    .dataframe tbody tr th:only-of-type {\n",
       "        vertical-align: middle;\n",
       "    }\n",
       "\n",
       "    .dataframe tbody tr th {\n",
       "        vertical-align: top;\n",
       "    }\n",
       "\n",
       "    .dataframe thead th {\n",
       "        text-align: right;\n",
       "    }\n",
       "</style>\n",
       "<table border=\"1\" class=\"dataframe\">\n",
       "  <thead>\n",
       "    <tr style=\"text-align: right;\">\n",
       "      <th></th>\n",
       "      <th>day_of_week</th>\n",
       "      <th>airline</th>\n",
       "      <th>flight</th>\n",
       "      <th>source_city</th>\n",
       "      <th>departure_hour</th>\n",
       "      <th>departure_category</th>\n",
       "      <th>stops</th>\n",
       "      <th>arrival_hour</th>\n",
       "      <th>arrival_category</th>\n",
       "      <th>destination_city</th>\n",
       "      <th>...</th>\n",
       "      <th>arrival_hour_sin</th>\n",
       "      <th>arrival_hour_cos</th>\n",
       "      <th>Air India</th>\n",
       "      <th>AirAsia</th>\n",
       "      <th>GO FIRST</th>\n",
       "      <th>Indigo</th>\n",
       "      <th>SpiceJet</th>\n",
       "      <th>StarAir</th>\n",
       "      <th>Trujet</th>\n",
       "      <th>Vistara</th>\n",
       "    </tr>\n",
       "  </thead>\n",
       "  <tbody>\n",
       "    <tr>\n",
       "      <th>0</th>\n",
       "      <td>Friday</td>\n",
       "      <td>SpiceJet</td>\n",
       "      <td>SG-8709</td>\n",
       "      <td>Delhi</td>\n",
       "      <td>18</td>\n",
       "      <td>Evening</td>\n",
       "      <td>0</td>\n",
       "      <td>21</td>\n",
       "      <td>Night</td>\n",
       "      <td>Mumbai</td>\n",
       "      <td>...</td>\n",
       "      <td>-0.707107</td>\n",
       "      <td>0.707107</td>\n",
       "      <td>0</td>\n",
       "      <td>0</td>\n",
       "      <td>0</td>\n",
       "      <td>0</td>\n",
       "      <td>1</td>\n",
       "      <td>0</td>\n",
       "      <td>0</td>\n",
       "      <td>0</td>\n",
       "    </tr>\n",
       "  </tbody>\n",
       "</table>\n",
       "<p>1 rows × 26 columns</p>\n",
       "</div>"
      ],
      "text/plain": [
       "  day_of_week   airline   flight source_city  departure_hour  \\\n",
       "0      Friday  SpiceJet  SG-8709       Delhi              18   \n",
       "\n",
       "  departure_category  stops  arrival_hour arrival_category destination_city  \\\n",
       "0            Evening      0            21            Night           Mumbai   \n",
       "\n",
       "   ... arrival_hour_sin  arrival_hour_cos  Air India  AirAsia  GO FIRST  \\\n",
       "0  ...        -0.707107          0.707107          0        0         0   \n",
       "\n",
       "   Indigo  SpiceJet  StarAir  Trujet  Vistara  \n",
       "0       0         1        0       0        0  \n",
       "\n",
       "[1 rows x 26 columns]"
      ]
     },
     "execution_count": 7,
     "metadata": {},
     "output_type": "execute_result"
    }
   ],
   "source": [
    "data.head(1)"
   ]
  },
  {
   "cell_type": "code",
   "execution_count": null,
   "id": "0cf0176c-0b4c-4a08-b97f-3fdba48fdd39",
   "metadata": {},
   "outputs": [],
   "source": []
  }
 ],
 "metadata": {
  "kernelspec": {
   "display_name": "Python 3 (ipykernel)",
   "language": "python",
   "name": "python3"
  },
  "language_info": {
   "codemirror_mode": {
    "name": "ipython",
    "version": 3
   },
   "file_extension": ".py",
   "mimetype": "text/x-python",
   "name": "python",
   "nbconvert_exporter": "python",
   "pygments_lexer": "ipython3",
   "version": "3.11.5"
  }
 },
 "nbformat": 4,
 "nbformat_minor": 5
}
